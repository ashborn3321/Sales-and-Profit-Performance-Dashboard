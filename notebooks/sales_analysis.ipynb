{
 "cells": [
  {
   "cell_type": "markdown",
   "id": "523fe0bc",
   "metadata": {},
   "source": [
    "# Sales and Profit Performance Analysis\n",
    "\n",
    "This notebook explores the sales and profit data to identify trends, patterns, and insights."
   ]
  },
  {
   "cell_type": "code",
   "execution_count": null,
   "id": "004b0cda",
   "metadata": {},
   "outputs": [],
   "source": [
    "# Import necessary libraries\n",
    "import pandas as pd\n",
    "import numpy as np\n",
    "import matplotlib.pyplot as plt\n",
    "import seaborn as sns\n",
    "import os\n",
    "import sys\n",
    "\n",
    "# Configure visualizations\n",
    "sns.set(style=\"whitegrid\")\n",
    "plt.rcParams['figure.figsize'] = (12, 8)\n",
    "plt.rcParams['font.size'] = 12\n",
    "\n",
    "# Add the src directory to Python path to import our modules\n",
    "sys.path.append('..')\n",
    "from src.data_processing import load_data, clean_data, generate_features\n",
    "from src.analysis import calculate_summary_stats, time_series_analysis, product_performance_analysis\n",
    "from src.visualization import plot_sales_trend, plot_profit_margin_by_category, plot_sales_by_region"
   ]
  },
  {
   "cell_type": "markdown",
   "id": "3993a242",
   "metadata": {},
   "source": [
    "## Data Loading and Preprocessing"
   ]
  },
  {
   "cell_type": "code",
   "execution_count": null,
   "id": "2ad0c5bc",
   "metadata": {},
   "outputs": [],
   "source": [
    "# Load the data\n",
    "file_path = os.path.join('..', 'data', 'raw', 'Sales dataset.csv')\n",
    "df = load_data(file_path)\n",
    "print(f\"Loaded {len(df)} records\")\n",
    "\n",
    "# Display the first few rows\n",
    "df.head()"
   ]
  },
  {
   "cell_type": "code",
   "execution_count": null,
   "id": "b6dd238b",
   "metadata": {},
   "outputs": [],
   "source": [
    "# Check data info\n",
    "df.info()"
   ]
  },
  {
   "cell_type": "code",
   "execution_count": null,
   "id": "faf9d7c5",
   "metadata": {},
   "outputs": [],
   "source": [
    "# Clean and preprocess the data\n",
    "df_clean = clean_data(df)\n",
    "print(f\"After cleaning: {len(df_clean)} records\")\n",
    "\n",
    "# Generate additional features\n",
    "df_enhanced = generate_features(df_clean)\n",
    "print(f\"Enhanced data shape: {df_enhanced.shape}\")\n",
    "\n",
    "# Display the processed data\n",
    "df_enhanced.head()"
   ]
  },
  {
   "cell_type": "markdown",
   "id": "22ad6310",
   "metadata": {},
   "source": [
    "## Exploratory Data Analysis"
   ]
  },
  {
   "cell_type": "code",
   "execution_count": null,
   "id": "9eddb62a",
   "metadata": {},
   "outputs": [],
   "source": [
    "# Summary statistics\n",
    "df_enhanced.describe()"
   ]
  },
  {
   "cell_type": "code",
   "execution_count": null,
   "id": "254d426c",
   "metadata": {},
   "outputs": [],
   "source": [
    "# Calculate business metrics\n",
    "summary_stats = calculate_summary_stats(df_enhanced)\n",
    "\n",
    "print(f\"Total Sales: ${summary_stats['total_sales']:,.2f}\")\n",
    "print(f\"Total Profit: ${summary_stats['total_profit']:,.2f}\")\n",
    "print(f\"Average Profit Margin: {summary_stats['average_profit_margin']:.2%}\")\n",
    "\n",
    "# Display top selling categories\n",
    "print(\"\\nTop Selling Categories:\")\n",
    "for category, sales in summary_stats.get('top_selling_categories', {}).items():\n",
    "    print(f\"{category}: ${sales:,.2f}\")\n",
    "\n",
    "# Display most profitable categories\n",
    "print(\"\\nMost Profitable Categories:\")\n",
    "for category, profit in summary_stats.get('most_profitable_categories', {}).items():\n",
    "    print(f\"{category}: ${profit:,.2f}\")"
   ]
  },
  {
   "cell_type": "markdown",
   "id": "10a84b77",
   "metadata": {},
   "source": [
    "## Sales Trends Analysis"
   ]
  },
  {
   "cell_type": "code",
   "execution_count": null,
   "id": "eeea86cf",
   "metadata": {},
   "outputs": [],
   "source": [
    "# Analyze sales trends over time\n",
    "time_series = time_series_analysis(df_enhanced)\n",
    "\n",
    "# Plot monthly sales trend\n",
    "plt.figure(figsize=(14, 8))\n",
    "plt.plot(time_series['monthly']['dates'], time_series['monthly']['sales'], marker='o')\n",
    "plt.title('Monthly Sales Trend', fontsize=16)\n",
    "plt.xlabel('Month', fontsize=14)\n",
    "plt.ylabel('Sales ($)', fontsize=14)\n",
    "plt.grid(True, alpha=0.3)\n",
    "plt.xticks(rotation=45)\n",
    "plt.tight_layout()\n",
    "plt.show()"
   ]
  },
  {
   "cell_type": "code",
   "execution_count": null,
   "id": "e0e5d323",
   "metadata": {},
   "outputs": [],
   "source": [
    "# Plot monthly profit trend\n",
    "plt.figure(figsize=(14, 8))\n",
    "plt.plot(time_series['monthly']['dates'], time_series['monthly']['profit'], marker='o', color='green')\n",
    "plt.title('Monthly Profit Trend', fontsize=16)\n",
    "plt.xlabel('Month', fontsize=14)\n",
    "plt.ylabel('Profit ($)', fontsize=14)\n",
    "plt.grid(True, alpha=0.3)\n",
    "plt.xticks(rotation=45)\n",
    "plt.tight_layout()\n",
    "plt.show()"
   ]
  },
  {
   "cell_type": "markdown",
   "id": "ff8ae88a",
   "metadata": {},
   "source": [
    "## Product Performance Analysis"
   ]
  },
  {
   "cell_type": "code",
   "execution_count": null,
   "id": "5e7cd762",
   "metadata": {},
   "outputs": [],
   "source": [
    "# Analyze product category performance\n",
    "product_perf = product_performance_analysis(df_enhanced)\n",
    "product_perf.head(10)"
   ]
  },
  {
   "cell_type": "code",
   "execution_count": null,
   "id": "46764cbd",
   "metadata": {},
   "outputs": [],
   "source": [
    "# Visualize profit margin by category\n",
    "plot_profit_margin_by_category(df_enhanced)\n",
    "plt.tight_layout()\n",
    "plt.show()"
   ]
  },
  {
   "cell_type": "markdown",
   "id": "42b50fa8",
   "metadata": {},
   "source": [
    "## Geographic Analysis"
   ]
  },
  {
   "cell_type": "code",
   "execution_count": null,
   "id": "29b8ba1a",
   "metadata": {},
   "outputs": [],
   "source": [
    "# Analyze sales by region\n",
    "plot_sales_by_region(df_enhanced)\n",
    "plt.tight_layout()\n",
    "plt.show()"
   ]
  },
  {
   "cell_type": "code",
   "execution_count": null,
   "id": "d4ac7159",
   "metadata": {},
   "outputs": [],
   "source": [
    "# Sales by country\n",
    "if 'Customer Country' in df_enhanced.columns:\n",
    "    country_sales = df_enhanced.groupby('Customer Country')['Sales'].sum().sort_values(ascending=False)\n",
    "    \n",
    "    plt.figure(figsize=(14, 8))\n",
    "    country_sales.head(10).plot(kind='bar')\n",
    "    plt.title('Sales by Country (Top 10)', fontsize=16)\n",
    "    plt.xlabel('Country', fontsize=14)\n",
    "    plt.ylabel('Sales ($)', fontsize=14)\n",
    "    plt.grid(True, alpha=0.3)\n",
    "    plt.xticks(rotation=45)\n",
    "    plt.tight_layout()\n",
    "    plt.show()"
   ]
  },
  {
   "cell_type": "markdown",
   "id": "d7040e1e",
   "metadata": {},
   "source": [
    "## Customer Segment Analysis"
   ]
  },
  {
   "cell_type": "code",
   "execution_count": null,
   "id": "dd138a23",
   "metadata": {},
   "outputs": [],
   "source": [
    "# Analyze sales by customer segment\n",
    "if 'Customer Segment' in df_enhanced.columns:\n",
    "    segment_sales = df_enhanced.groupby('Customer Segment').agg({\n",
    "        'Sales': 'sum',\n",
    "        'Profit Per Order': 'sum',\n",
    "        'Order Quantity': 'sum'\n",
    "    }).reset_index()\n",
    "    \n",
    "    # Calculate average order value by segment\n",
    "    segment_sales['Average Order Value'] = segment_sales['Sales'] / segment_sales['Order Quantity']\n",
    "    \n",
    "    print(\"Customer Segment Analysis:\")\n",
    "    print(segment_sales)\n",
    "    \n",
    "    # Visualize sales by segment\n",
    "    plt.figure(figsize=(10, 6))\n",
    "    sns.barplot(x='Customer Segment', y='Sales', data=segment_sales)\n",
    "    plt.title('Sales by Customer Segment', fontsize=16)\n",
    "    plt.xlabel('Customer Segment', fontsize=14)\n",
    "    plt.ylabel('Sales ($)', fontsize=14)\n",
    "    plt.grid(True, alpha=0.3)\n",
    "    plt.tight_layout()\n",
    "    plt.show()"
   ]
  },
  {
   "cell_type": "markdown",
   "id": "d40f5f75",
   "metadata": {},
   "source": [
    "## Correlation Analysis"
   ]
  },
  {
   "cell_type": "code",
   "execution_count": null,
   "id": "6a1065f7",
   "metadata": {},
   "outputs": [],
   "source": [
    "# Select numeric columns for correlation analysis\n",
    "numeric_cols = df_enhanced.select_dtypes(include=[np.number]).columns.tolist()\n",
    "corr_matrix = df_enhanced[numeric_cols].corr()\n",
    "\n",
    "# Create a heatmap of correlations\n",
    "plt.figure(figsize=(12, 10))\n",
    "sns.heatmap(corr_matrix, annot=True, cmap='coolwarm', fmt='.2f')\n",
    "plt.title('Correlation Matrix of Numeric Variables', fontsize=16)\n",
    "plt.tight_layout()\n",
    "plt.show()"
   ]
  },
  {
   "cell_type": "markdown",
   "id": "ee8af7ce",
   "metadata": {},
   "source": [
    "## Conclusions and Recommendations"
   ]
  },
  {
   "cell_type": "markdown",
   "id": "d6d35717",
   "metadata": {},
   "source": [
    "Based on the analysis above, here are the key findings and recommendations:\n",
    "\n",
    "1. **Top performing product categories** - Focus on expanding these categories and identifying what makes them successful\n",
    "2. **Sales trends** - Identify seasonal patterns and adjust inventory and marketing accordingly\n",
    "3. **Customer segments** - Target marketing efforts to the most profitable customer segments\n",
    "4. **Geographic insights** - Explore opportunities for growth in high-performing regions\n",
    "\n",
    "Additional analyses that could provide further insights:\n",
    "- Customer retention and repeat purchase patterns\n",
    "- Price elasticity analysis\n",
    "- Bundle analysis for complementary products"
   ]
  }
 ],
 "metadata": {
  "language_info": {
   "name": "python"
  }
 },
 "nbformat": 4,
 "nbformat_minor": 5
}
